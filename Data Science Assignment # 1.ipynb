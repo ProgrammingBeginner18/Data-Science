{
 "cells": [
  {
   "cell_type": "code",
   "execution_count": 1,
   "id": "d96d4d18",
   "metadata": {},
   "outputs": [
    {
     "name": "stdout",
     "output_type": "stream",
     "text": [
      "Twinkle,twinkle,little star,\n",
      "\tHow I wonder what you are!\n",
      "\t\tUp above the world so high,\n",
      "\t\tLike a diamond in the sky.\n",
      "Twinkle,twinkle,little star,\n",
      "How I wonder what you are\n"
     ]
    }
   ],
   "source": [
    "#Question No.1\n",
    "\n",
    "print(\"Twinkle,twinkle,little star,\\n\\tHow I wonder what you are!\\n\\t\\tUp above the world so high,\\n\\t\\tLike a diamond in the sky.\\nTwinkle,twinkle,little star,\\nHow I wonder what you are\")"
   ]
  },
  {
   "cell_type": "code",
   "execution_count": 3,
   "id": "6cd754a4",
   "metadata": {},
   "outputs": [
    {
     "name": "stdout",
     "output_type": "stream",
     "text": [
      "Current Version of Python is 3.9\n"
     ]
    }
   ],
   "source": [
    "#Question No. 2\n",
    "\n",
    "current_version_of_python = 3.9\n",
    "print(\"Current Version of Python is\",current_version_of_python)"
   ]
  },
  {
   "cell_type": "code",
   "execution_count": 5,
   "id": "a840b2ad",
   "metadata": {},
   "outputs": [
    {
     "name": "stdout",
     "output_type": "stream",
     "text": [
      "Enter Current Date 01/01/2022\n",
      "Enter Current Time 06:08\n",
      "Current Date = 01/01/2022\n",
      "Current Time = 06:08\n"
     ]
    }
   ],
   "source": [
    "#Question No. 3\n",
    "\n",
    "Date = input(\"Enter Current Date \")\n",
    "Time = input(\"Enter Current Time \")\n",
    "print(\"Current Date =\",Date)\n",
    "print(\"Current Time =\",Time)"
   ]
  },
  {
   "cell_type": "code",
   "execution_count": 7,
   "id": "4778d0e6",
   "metadata": {},
   "outputs": [
    {
     "name": "stdout",
     "output_type": "stream",
     "text": [
      "Enter Radius of The Circle 7\n",
      "Area of The Circle is 153.86\n"
     ]
    }
   ],
   "source": [
    "#Question No.4\n",
    "\n",
    "Radius = int(input(\"Enter Radius of The Circle \"))\n",
    "Area = 3.14 * (Radius **  2)\n",
    "print(\"Area of The Circle is\",Area)"
   ]
  },
  {
   "cell_type": "code",
   "execution_count": 8,
   "id": "45bc066b",
   "metadata": {},
   "outputs": [
    {
     "name": "stdout",
     "output_type": "stream",
     "text": [
      "Enter First Name Muhammad\n",
      "Enter Last Name Haseeb\n",
      "Haseeb Muhammad\n"
     ]
    }
   ],
   "source": [
    "#Question No. 5\n",
    "\n",
    "First_Name = input(\"Enter First Name \")\n",
    "Last_Name = input(\"Enter Last Name \")\n",
    "Full_Name = Last_Name + \" \" + First_Name\n",
    "print(Full_Name)"
   ]
  },
  {
   "cell_type": "code",
   "execution_count": 9,
   "id": "076b93b9",
   "metadata": {},
   "outputs": [
    {
     "name": "stdout",
     "output_type": "stream",
     "text": [
      "Enter First Value 12\n",
      "Enter Second Value 14\n",
      "26\n"
     ]
    }
   ],
   "source": [
    "#Question No. 6\n",
    "\n",
    "x = int(input(\"Enter First Value \"))\n",
    "y = int(input(\"Enter Second Value \"))\n",
    "z = x + y\n",
    "print(z)"
   ]
  }
 ],
 "metadata": {
  "kernelspec": {
   "display_name": "Python 3",
   "language": "python",
   "name": "python3"
  },
  "language_info": {
   "codemirror_mode": {
    "name": "ipython",
    "version": 3
   },
   "file_extension": ".py",
   "mimetype": "text/x-python",
   "name": "python",
   "nbconvert_exporter": "python",
   "pygments_lexer": "ipython3",
   "version": "3.8.8"
  }
 },
 "nbformat": 4,
 "nbformat_minor": 5
}
